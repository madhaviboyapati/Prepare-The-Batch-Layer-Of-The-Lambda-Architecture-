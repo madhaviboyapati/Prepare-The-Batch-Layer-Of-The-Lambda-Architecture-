{
 "cells": [
  {
   "cell_type": "code",
   "execution_count": 1,
   "metadata": {},
   "outputs": [],
   "source": [
    "vehicle_counter_DF = spark.read.csv('/home/madhavi/per-vehicle-records-2019-10-31.csv', inferSchema = True, header = True)"
   ]
  },
  {
   "cell_type": "code",
   "execution_count": 2,
   "metadata": {},
   "outputs": [],
   "source": [
    "vehicle_counter_DF.registerTempTable(\"transport\") \n",
    "\n"
   ]
  },
  {
   "cell_type": "code",
   "execution_count": 24,
   "metadata": {},
   "outputs": [
    {
     "name": "stdout",
     "output_type": "stream",
     "text": [
      "+------------+-----+\n",
      "|busiest_site|count|\n",
      "+------------+-----+\n",
      "|        1508|98292|\n",
      "+------------+-----+\n",
      "\n"
     ]
    }
   ],
   "source": [
    "# 1. Show the busiest site in Ireland.\n",
    "busiest_site = spark.sql(\"select cosit as busiest_site, count(*) as count from transport group by cosit order by count(cosit) desc limit 1\");\n",
    "busiest_site.show()"
   ]
  },
  {
   "cell_type": "code",
   "execution_count": 25,
   "metadata": {},
   "outputs": [],
   "source": [
    "busiest_site.select(\"busiest_site\", \"count\")\\\n",
    ".write.format(\"org.apache.spark.sql.cassandra\")\\\n",
    ".options(table=\"busiest_site\", keyspace = \"assignment2\")\\\n",
    ".save(mode=\"append\")"
   ]
  },
  {
   "cell_type": "code",
   "execution_count": 26,
   "metadata": {},
   "outputs": [
    {
     "name": "stdout",
     "output_type": "stream",
     "text": [
      "+-----------------+\n",
      "|          avg_gap|\n",
      "+-----------------+\n",
      "|4.274862509505848|\n",
      "+-----------------+\n",
      "\n"
     ]
    }
   ],
   "source": [
    "# 2.Show the average distance between vehicles on all M50 sites.\n",
    "\n",
    "distance_between_vehicles = spark.sql(\"select AVG(gap) as avg_gap from transport where cosit in(1500,1501,1502,1503,1504,1505,1506,1507,1508,1509,15010,15011,15012,1012)\")\n",
    "distance_between_vehicles.show()\n",
    "\n"
   ]
  },
  {
   "cell_type": "code",
   "execution_count": 29,
   "metadata": {},
   "outputs": [],
   "source": [
    "distance_between_vehicles.select('avg_gap')\\\n",
    ".write.format(\"org.apache.spark.sql.cassandra\")\\\n",
    ".options(table=\"avg_gap\", keyspace = \"assignment2\")\\\n",
    ".save(mode=\"append\")"
   ]
  },
  {
   "cell_type": "code",
   "execution_count": 36,
   "metadata": {},
   "outputs": [
    {
     "name": "stdout",
     "output_type": "stream",
     "text": [
      "+----+----+------+--------+\n",
      "|site|hour|minute|max_temp|\n",
      "+----+----+------+--------+\n",
      "|1015|  13|     4|    12.0|\n",
      "|1015|  18|    47|    12.0|\n",
      "|1015|  18|    48|    12.0|\n",
      "|1015|  12|    32|    12.0|\n",
      "|1015|  18|    49|    12.0|\n",
      "+----+----+------+--------+\n",
      "\n"
     ]
    }
   ],
   "source": [
    "# 3. What site has recorded the highest temperature? Show the hour of the day.\n",
    "Maximum_temperature = spark.sql(\"select cosit as site, hour,minute, MAX(temperature) as max_temp from transport group by cosit,hour,minute order by MAX(temperature) desc limit 5\");\n",
    "Maximum_temperature.show()"
   ]
  },
  {
   "cell_type": "code",
   "execution_count": 52,
   "metadata": {},
   "outputs": [],
   "source": [
    "Maximum_temperature.select(\"site\", \"hour\", \"minute\", \"max_temp\")\\\n",
    ".write.format(\"org.apache.spark.sql.cassandra\")\\\n",
    ".options(table=\"maximum_temperature\", keyspace = \"assignment2\")\\\n",
    ".save(mode=\"append\")"
   ]
  },
  {
   "cell_type": "code",
   "execution_count": 53,
   "metadata": {},
   "outputs": [
    {
     "name": "stdout",
     "output_type": "stream",
     "text": [
      "+--------+\n",
      "|WIM_site|\n",
      "+--------+\n",
      "|     325|\n",
      "+--------+\n",
      "\n"
     ]
    }
   ],
   "source": [
    "# 4. Show total number of WIM sites available in the dataset?\n",
    "\n",
    "Total_WIM_sites = spark.sql(\"select COUNT(DISTINCT cosit) as wim_site from transport group where weight IS NOT NULL\");\n",
    "Total_WIM_sites.show();"
   ]
  },
  {
   "cell_type": "code",
   "execution_count": 58,
   "metadata": {},
   "outputs": [],
   "source": [
    "Total_WIM_sites.select('wim_site')\\\n",
    ".write.format(\"org.apache.spark.sql.cassandra\")\\\n",
    ".options(table=\"total_wim_sites\", keyspace = \"assignment2\")\\\n",
    ".save(mode=\"append\")"
   ]
  },
  {
   "cell_type": "code",
   "execution_count": 67,
   "metadata": {},
   "outputs": [
    {
     "name": "stdout",
     "output_type": "stream",
     "text": [
      "+-----+-----------------+\n",
      "|cosit|        avg_speed|\n",
      "+-----+-----------------+\n",
      "| 1507|95.00087226856925|\n",
      "| 1506|89.01114291227168|\n",
      "| 1504|84.95810635538263|\n",
      "| 1502|84.54840331627523|\n",
      "| 1501| 83.7040682651283|\n",
      "| 1505|83.56696008249519|\n",
      "| 1508|81.37383510356896|\n",
      "| 1503|79.29442543070944|\n",
      "| 1012|78.86071923672837|\n",
      "| 1509|78.19974476773864|\n",
      "| 1500|76.23903247455863|\n",
      "+-----+-----------------+\n",
      "\n"
     ]
    }
   ],
   "source": [
    "# 5.Compute the average speed for each site on M50.\n",
    "Avg_speed = spark.sql(\"select cosit, avg(speed) as avg_speed from transport where cosit IN (1500, 1501, 1502, 1503, 1504, 1505, 1506, 1507, 1508, 1509, 15010, 15011, 15012, 1012) group by cosit order by avg_speed desc\");\n",
    "Avg_speed.show()"
   ]
  },
  {
   "cell_type": "code",
   "execution_count": 62,
   "metadata": {},
   "outputs": [],
   "source": [
    "Avg_speed.select(\"cosit\", \"avg_speed\")\\\n",
    ".write.format(\"org.apache.spark.sql.cassandra\")\\\n",
    ".options(table=\"avg_speed\", keyspace = \"assignment2\")\\\n",
    ".save(mode=\"append\")"
   ]
  },
  {
   "cell_type": "code",
   "execution_count": 69,
   "metadata": {},
   "outputs": [
    {
     "name": "stdout",
     "output_type": "stream",
     "text": [
      "+---------+-------------------+\n",
      "|classname|total_vehicle_count|\n",
      "+---------+-------------------+\n",
      "|      CAR|            3472965|\n",
      "|      LGV|             498505|\n",
      "|  HGV_ART|             216978|\n",
      "|  HGV_RIG|             135202|\n",
      "|      BUS|              29347|\n",
      "|  CARAVAN|              21224|\n",
      "|    MBIKE|              14682|\n",
      "|     null|                396|\n",
      "+---------+-------------------+\n",
      "\n"
     ]
    }
   ],
   "source": [
    "# 6.Show total number of counts by vehicle class. Order results in descending.\n",
    "\n",
    "Total_numberof_vehicles = spark.sql(\"select classname, count(class) as total_vehicle_count from transport group by classname order by total_vehicle_count desc\");\n",
    "Total_numberof_vehicles.show()"
   ]
  },
  {
   "cell_type": "code",
   "execution_count": 74,
   "metadata": {},
   "outputs": [],
   "source": [
    "Total_numberof_vehicles.select(\"classname\", \"total_vehicle_count\")\\\n",
    ".write.format(\"org.apache.spark.sql.cassandra\")\\\n",
    ".options(table=\"total_vehicles\", keyspace = \"assignment2\")\\\n",
    ".save(mode=\"append\")"
   ]
  },
  {
   "cell_type": "code",
   "execution_count": 78,
   "metadata": {
    "scrolled": true
   },
   "outputs": [
    {
     "name": "stdout",
     "output_type": "stream",
     "text": [
      "+-----+-------------+\n",
      "|cosit|vehicle_count|\n",
      "+-----+-------------+\n",
      "| 1508|        98292|\n",
      "| 1502|        89498|\n",
      "| 1503|        86195|\n",
      "| 1501|        83205|\n",
      "| 1509|        78360|\n",
      "+-----+-------------+\n",
      "\n"
     ]
    }
   ],
   "source": [
    "# 7. List the top 3 busiest sites on M50.\n",
    "\n",
    "Top3_busiest_sites = spark.sql(\"select cosit, count(*) as vehicle_count from transport where cosit IN (1500, 1501, 1502, 1503, 1504, 1505, 1506, 1507, 1508, 1509, 15010, 15011, 15012, 1012) group by cosit order by vehicle_count desc limit 5\");\n",
    "Top3_busiest_sites.show()"
   ]
  },
  {
   "cell_type": "code",
   "execution_count": 79,
   "metadata": {},
   "outputs": [],
   "source": [
    "Top3_busiest_sites.select(\"cosit\", \"vehicle_count\")\\\n",
    ".write.format(\"org.apache.spark.sql.cassandra\")\\\n",
    ".options(table=\"busiest_sites\", keyspace = \"assignment2\")\\\n",
    ".save(mode=\"append\")"
   ]
  },
  {
   "cell_type": "code",
   "execution_count": 84,
   "metadata": {},
   "outputs": [
    {
     "name": "stdout",
     "output_type": "stream",
     "text": [
      "+-----+-----+\n",
      "|cosit|count|\n",
      "+-----+-----+\n",
      "|20062|12387|\n",
      "+-----+-----+\n",
      "\n"
     ]
    }
   ],
   "source": [
    "# 8.What is the busiest site on M6?\n",
    "\n",
    "Busiest_site_on_M6 = spark.sql(\"select cosit, count(*) as count from transport where cosit IN (3601,3602, 3603, 3604, 3605, 20061, 20062, 20063, 20064) group by cosit order by count desc limit 1\");\n",
    "Busiest_site_on_M6.show()"
   ]
  },
  {
   "cell_type": "code",
   "execution_count": 88,
   "metadata": {},
   "outputs": [],
   "source": [
    "Busiest_site_on_M6.select(\"cosit\", \"count\")\\\n",
    ".write.format(\"org.apache.spark.sql.cassandra\")\\\n",
    ".options(table=\"m6_site\", keyspace = \"assignment2\")\\\n",
    ".save(mode=\"append\")"
   ]
  },
  {
   "cell_type": "code",
   "execution_count": 91,
   "metadata": {},
   "outputs": [
    {
     "name": "stdout",
     "output_type": "stream",
     "text": [
      "+-----+---------+\n",
      "|cosit|hgv_count|\n",
      "+-----+---------+\n",
      "|  997|    12031|\n",
      "+-----+---------+\n",
      "\n"
     ]
    }
   ],
   "source": [
    "#9. What site reports the highest number of HGVs?\n",
    "\n",
    "Highest_HGV_site_count = spark.sql(\"select cosit, count(*) as hgv_count from transport where class = 5 or class = 6 group by cosit order by hgv_count desc limit 1\");\n",
    "Highest_HGV_site_count.show()"
   ]
  },
  {
   "cell_type": "code",
   "execution_count": 92,
   "metadata": {},
   "outputs": [],
   "source": [
    "Highest_HGV_site_count.select(\"cosit\", \"hgv_count\")\\\n",
    ".write.format(\"org.apache.spark.sql.cassandra\")\\\n",
    ".options(table=\"highest_numberof_hgv\", keyspace = \"assignment2\")\\\n",
    ".save(mode=\"append\")"
   ]
  },
  {
   "cell_type": "code",
   "execution_count": 93,
   "metadata": {},
   "outputs": [
    {
     "name": "stdout",
     "output_type": "stream",
     "text": [
      "+------+--------------+\n",
      "| cosit|total_vehicles|\n",
      "+------+--------------+\n",
      "| 20074|         26331|\n",
      "| 20075|         26148|\n",
      "|200713|         25864|\n",
      "| 20076|         22952|\n",
      "| 20078|         17977|\n",
      "| 20077|         17712|\n",
      "|200722|         17568|\n",
      "| 20079|         16296|\n",
      "|200715|         13944|\n",
      "|200721|         12441|\n",
      "|200719|          8445|\n",
      "|200718|          7694|\n",
      "|200717|          7203|\n",
      "|200716|          7073|\n",
      "+------+--------------+\n",
      "\n"
     ]
    }
   ],
   "source": [
    "#10. Calculate the total number of vehicles on each site on M7.\n",
    "\n",
    "Total_numberof_vehicles_on_M7 = spark.sql(\"select cosit, count(*) as total_vehicles from transport where cosit IN (3703, 3704, 20072, 20073, 20074, 20075, 20076, 20077, 20078, 20079, 200713, 200715, 200716, 200717, 200718, 200719, 200721, 200722) group by cosit order by total_vehicles desc\");\n",
    "Total_numberof_vehicles_on_M7.show()"
   ]
  },
  {
   "cell_type": "code",
   "execution_count": 94,
   "metadata": {},
   "outputs": [],
   "source": [
    "Total_numberof_vehicles_on_M7.select(\"cosit\", \"total_vehicles\")\\\n",
    ".write.format(\"org.apache.spark.sql.cassandra\")\\\n",
    ".options(table=\"total_vehicles_on_m7\", keyspace = \"assignment2\")\\\n",
    ".save(mode=\"append\")"
   ]
  },
  {
   "cell_type": "code",
   "execution_count": null,
   "metadata": {},
   "outputs": [],
   "source": []
  }
 ],
 "metadata": {
  "kernelspec": {
   "display_name": "Python 3",
   "language": "python",
   "name": "python3"
  },
  "language_info": {
   "codemirror_mode": {
    "name": "ipython",
    "version": 3
   },
   "file_extension": ".py",
   "mimetype": "text/x-python",
   "name": "python",
   "nbconvert_exporter": "python",
   "pygments_lexer": "ipython3",
   "version": "3.5.2"
  }
 },
 "nbformat": 4,
 "nbformat_minor": 2
}
